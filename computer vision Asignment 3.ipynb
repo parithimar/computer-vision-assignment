{
 "cells": [
  {
   "cell_type": "code",
   "execution_count": null,
   "id": "236dc6fc",
   "metadata": {},
   "outputs": [],
   "source": [
    "Thus the convolution of each 2nd layer filter with the stack of feature maps (output of the first layer) yields a single feature map. The size of the third dimension of the output of the second layer is therefore equal to the number of filters in the second layer. Usually it is used type 2.1 convolution"
   ]
  },
  {
   "cell_type": "code",
   "execution_count": null,
   "id": "57410767",
   "metadata": {},
   "outputs": [],
   "source": [
    "You will follow the steps below for image classification using CNN: Step 2: Input layer Step 3: Convolutional layer The MNIST dataset is available with scikit to learn at this URL. Please download it and store it in Downloads. You can upload it with fetch_mldata ('MNIST original')"
   ]
  },
  {
   "cell_type": "code",
   "execution_count": null,
   "id": "566618a0",
   "metadata": {},
   "outputs": [],
   "source": [
    "Data layers can be accessed with the button in the top left corner. Financial reports are located in the bottom left corner. Other statistics are located in the bottom right corner. To help keep track of progress, various statistics for lines, vehicles, stations, cities and industries are available in the bottom left corner"
   ]
  },
  {
   "cell_type": "code",
   "execution_count": null,
   "id": "aab154a1",
   "metadata": {},
   "outputs": [],
   "source": [
    "A callback can implement actions on the following events: before_fit: called before starting training or inference, ideal for initial setup. before_epoch: called at the beginning of each epoch, useful for any behavior you need to reset at each epoch. before_train: called at the beginning of the training part of an epoch."
   ]
  },
  {
   "cell_type": "code",
   "execution_count": null,
   "id": "3862785d",
   "metadata": {},
   "outputs": [],
   "source": [
    "In Deep learning, a neural networkwithout an activation function is just a linear regression model as these functions actually do the non-linear computations to the input of a neural network making it capable to learn and perform more complex tasks. Thus, it is quite essential to study the derivatives and implementation of activation functions, also analyze the benefits and downsides for each activation function"
   ]
  },
  {
   "cell_type": "code",
   "execution_count": null,
   "id": "a3749bc1",
   "metadata": {},
   "outputs": [],
   "source": [
    "Network topology is the description of the arrangement of nodes (e.g. networking switches and routers) and connections in a network, often represented as a graph. No matter how identical two organizations are, no two networks are exactly alike. However, many organizations are relying on well-established network topology models. "
   ]
  },
  {
   "cell_type": "code",
   "execution_count": null,
   "id": "e885775f",
   "metadata": {},
   "outputs": [],
   "source": [
    "We might start with a large value like 0.1, then try exponentially lower values: 0.01, 0.001, etc. When we start training with a large learning rate, the loss doesn’t improve and probably even grows while we run the first few iterations of training."
   ]
  },
  {
   "cell_type": "code",
   "execution_count": null,
   "id": "156d6f72",
   "metadata": {},
   "outputs": [],
   "source": [
    "Distance learning programs offer flexibility around busy schedules; however, face-to-face experiences are minimal. Read on to explore more about the pros and cons of distance learning. Distance learning is designed to provide educational opportunities to students who are unable to pursue on-site study."
   ]
  },
  {
   "cell_type": "code",
   "execution_count": null,
   "id": "a97c60ff",
   "metadata": {},
   "outputs": [],
   "source": [
    "earning rate is a hyper-parameter that controls how much we are adjusting the weights of our network with respect the loss gradient. The lower the value, the slower we travel along the downward slope. While this might be a good idea (using a low learning rate) in terms of making sure that we do not miss any local minima, it could also mean that we’ll be taking a long time to converge — especially if we get stuck on a plateau region"
   ]
  },
  {
   "cell_type": "code",
   "execution_count": null,
   "id": "caab47e9",
   "metadata": {},
   "outputs": [],
   "source": []
  },
  {
   "cell_type": "code",
   "execution_count": null,
   "id": "e1684846",
   "metadata": {},
   "outputs": [],
   "source": []
  }
 ],
 "metadata": {
  "kernelspec": {
   "display_name": "Python 3",
   "language": "python",
   "name": "python3"
  },
  "language_info": {
   "codemirror_mode": {
    "name": "ipython",
    "version": 3
   },
   "file_extension": ".py",
   "mimetype": "text/x-python",
   "name": "python",
   "nbconvert_exporter": "python",
   "pygments_lexer": "ipython3",
   "version": "3.8.8"
  }
 },
 "nbformat": 4,
 "nbformat_minor": 5
}
