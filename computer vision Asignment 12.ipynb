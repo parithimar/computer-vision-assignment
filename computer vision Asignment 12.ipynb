{
 "cells": [
  {
   "cell_type": "code",
   "execution_count": null,
   "id": "1d461298",
   "metadata": {},
   "outputs": [],
   "source": [
    "CNN Architectures: LeNet, AlexNet, VGG, GoogLeNet, ResNet and more…. A Convolutional Neural Network (CNN, or ConvNet) are a special kind of multi-layer neural networks, designed to recognize visual patterns directly from pixel images with minimal preprocessing"
   ]
  },
  {
   "cell_type": "code",
   "execution_count": null,
   "id": "f28f8734",
   "metadata": {},
   "outputs": [],
   "source": [
    "Loss Function Faster R-CNN is optimized for a multi-task loss function, similar to fast R-CNN. The multi-task loss function combines the losses of classification and bounding box regression: L = Lcls + Lbox L({pi}, {ti}) = 1 Ncls∑ i Lcls(pi, p ∗ i) + λ Nbox∑ i p ∗ i ⋅ Lsmooth1 (ti − t ∗ i)"
   ]
  },
  {
   "cell_type": "code",
   "execution_count": null,
   "id": "08d71342",
   "metadata": {},
   "outputs": [],
   "source": [
    "Fast R-CNN. The same author of the previous paper(R-CNN) solved some of the drawbacks of R-CNN to build a faster object detection algorithm and it was called Fast R-CNN. The approach is similar to the R-CNN algorithm. But, instead of feeding the region proposals to the CNN, we feed the input image to the CNN to generate a convolutional feature map."
   ]
  },
  {
   "cell_type": "code",
   "execution_count": null,
   "id": "4a8af4fa",
   "metadata": {},
   "outputs": [],
   "source": [
    "The proposed network is designed to serve the daycare which will consist of approximately 16 rooms in a 6600 square foot building. The building is currently a shell and will be built out to a specification which at this point is undetermined, allowing for maximum flexibility to the installation of the network being proposed"
   ]
  },
  {
   "cell_type": "code",
   "execution_count": null,
   "id": "35cef45c",
   "metadata": {},
   "outputs": [],
   "source": [
    "The ROI pooling layer is a special case of the spatial pyramid pooling (SPP) layer with just one pyramid level. The layer basically divides the features from the selected proposal windows (that come from the region proposal algorithm) into sub-windows of size h/H by w/W and performs a pooling operation in each of these sub-windows"
   ]
  },
  {
   "cell_type": "code",
   "execution_count": null,
   "id": "043040e2",
   "metadata": {},
   "outputs": [],
   "source": [
    "Fully Convolutional Networks, or FCNs, are an architecture used mainly for semantic segmentation. They employ solely locally connected layers, such as convolution, pooling and upsampling. Avoiding the use of dense layers means less parameters (making the networks faster to train)."
   ]
  },
  {
   "cell_type": "code",
   "execution_count": null,
   "id": "0f4848f3",
   "metadata": {},
   "outputs": [],
   "source": [
    "we dive into the concept of anchor boxes and why they are so pivotal for modeling object detection tasks. Understanding and carefully tuning your model's anchor boxes can be a very important lever to improve your object detection model's performance, especially if you have irregularly shaped objects"
   ]
  },
  {
   "cell_type": "code",
   "execution_count": null,
   "id": "9d03d926",
   "metadata": {},
   "outputs": [],
   "source": [
    "Single Shot MultiBox Detector (SSD) is an object detection algorithm that is a modification of the VGG16 architecture. It was released at the end of November 2016 and reached new records in terms of performance and precision for object detection tasks, scoring over 74% mAP (mean Average Precision) at 59 frames per second on standard datasets such as PascalVOC and COCO ."
   ]
  },
  {
   "cell_type": "code",
   "execution_count": null,
   "id": "897cd1e2",
   "metadata": {},
   "outputs": [],
   "source": [
    "To produce detections of different scales, the SSD network uses feature maps from different layers of a modified VGG16 networks. The changes made to the VGG16 network includes: The fc6 and fc7 of VGG16 is turned into convolutional layers through the use of Atrous Convolution"
   ]
  },
  {
   "cell_type": "code",
   "execution_count": null,
   "id": "aaf7ca13",
   "metadata": {},
   "outputs": [],
   "source": [
    "etectMultiScale function is used to detect the faces. This function will return a rectangle with coordinates(x,y,w,h) around the detected face. It takes 3 common arguments — the input image, scaleFactor, and minNeighbours. scaleFactorspecifies how much the image size is reduced with each scale."
   ]
  },
  {
   "cell_type": "code",
   "execution_count": null,
   "id": "33ba40bd",
   "metadata": {},
   "outputs": [],
   "source": [
    "Dilated convolution, also known as Atrous Convolution or convolution with holes, first came into light by the paper \"Semantic Image Segmentation with Deep Convolutional Nets and Fully Connected CRFs\". The idea behind dilated convolution is to \"inflate\" the kernel which in turn skips some of the points."
   ]
  }
 ],
 "metadata": {
  "kernelspec": {
   "display_name": "Python 3",
   "language": "python",
   "name": "python3"
  },
  "language_info": {
   "codemirror_mode": {
    "name": "ipython",
    "version": 3
   },
   "file_extension": ".py",
   "mimetype": "text/x-python",
   "name": "python",
   "nbconvert_exporter": "python",
   "pygments_lexer": "ipython3",
   "version": "3.8.8"
  }
 },
 "nbformat": 4,
 "nbformat_minor": 5
}
