{
 "cells": [
  {
   "cell_type": "code",
   "execution_count": null,
   "id": "5f2cc211",
   "metadata": {},
   "outputs": [],
   "source": [
    "\n",
    "Because if you initialize all weights to zero then all of the hidden neurons (units) in your neural network will be doing the exact same calculations. This is not something we desire because we want different hidden units to compute different functions. However, this is not possible if you initialize all to the same value."
   ]
  },
  {
   "cell_type": "code",
   "execution_count": null,
   "id": "c3105b0d",
   "metadata": {},
   "outputs": [],
   "source": [
    "Main problem with initialization of all weights to zero mathematically leads to either the neuron values are zero (for multi layers) or the delta would be zero. In one of the comments by @alfa in the above answers already a hint is provided, it is mentioned that the product of weights and delta needs to be zero."
   ]
  },
  {
   "cell_type": "code",
   "execution_count": null,
   "id": "f0657abc",
   "metadata": {},
   "outputs": [],
   "source": [
    "\n",
    "Image: datascience.stackexchange.com\n",
    "Dilated Convolution: It is a technique that expands the kernel (input) by inserting holes between the its consecutive elements. In simpler terms, it is same as convolution but it involves pixel skipping, so as to cover a larger area of the input."
   ]
  },
  {
   "cell_type": "code",
   "execution_count": null,
   "id": "379c07aa",
   "metadata": {},
   "outputs": [],
   "source": [
    "Transposed convolutions – also called fractionally strided convolutions – work by swapping the forward and backward passes of a convolution. One way to put it is to note that the kernel defines a convolution, but whether it’s a direct convolution or a transposed convolution is determined by how the forward and backward passes are computed."
   ]
  },
  {
   "cell_type": "code",
   "execution_count": null,
   "id": "de6ec645",
   "metadata": {},
   "outputs": [],
   "source": [
    "Spatially separable convolutions, sometimes briefly called separable convolutions (Chollet (2017), although this does not fully cover depthwise separable convolutions), are convolutions that can be separated across their spatial axes. That is, they can be split into smaller convolutions that, when convolved sequentially, produce the same result."
   ]
  },
  {
   "cell_type": "code",
   "execution_count": null,
   "id": "614143a6",
   "metadata": {},
   "outputs": [],
   "source": [
    "Depthwise Convolution is a type of convolution where we apply a single convolutional filter for each input channel. In the regular 2D convolution performed over multiple input channels, the filter is as deep as the input and lets us freely mix channels to generate each element in the output."
   ]
  },
  {
   "cell_type": "code",
   "execution_count": null,
   "id": "55dfa113",
   "metadata": {},
   "outputs": [],
   "source": [
    "Similar to the spatial separable convolution, a depthwise separable convolution splits a kernel into 2 separate kernels that do two convolutions: the depthwise convolution and the pointwise convolution. But first of all, let’s see how a normal convolution works."
   ]
  },
  {
   "cell_type": "code",
   "execution_count": null,
   "id": "8baa04a1",
   "metadata": {},
   "outputs": [],
   "source": [
    "The primary aim of this layer is to decrease the size of the convolved feature map to reduce the computational costs. This is performed by decreasing the connections between layers and independently operates on each feature map. Depending upon method used, there are several types of Pooling operations"
   ]
  },
  {
   "cell_type": "code",
   "execution_count": null,
   "id": "819ff95b",
   "metadata": {},
   "outputs": [],
   "source": [
    "The receptive field, or sensory space, is a delimited medium where some physiological stimuli can evoke a sensory neuronal response in specific organisms."
   ]
  },
  {
   "cell_type": "code",
   "execution_count": null,
   "id": "cb43cd20",
   "metadata": {},
   "outputs": [],
   "source": []
  }
 ],
 "metadata": {
  "kernelspec": {
   "display_name": "Python 3",
   "language": "python",
   "name": "python3"
  },
  "language_info": {
   "codemirror_mode": {
    "name": "ipython",
    "version": 3
   },
   "file_extension": ".py",
   "mimetype": "text/x-python",
   "name": "python",
   "nbconvert_exporter": "python",
   "pygments_lexer": "ipython3",
   "version": "3.8.8"
  }
 },
 "nbformat": 4,
 "nbformat_minor": 5
}
