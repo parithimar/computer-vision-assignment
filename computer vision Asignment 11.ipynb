{
 "cells": [
  {
   "cell_type": "code",
   "execution_count": null,
   "id": "76405fba",
   "metadata": {},
   "outputs": [],
   "source": [
    "It’s purpose is to propose multiple objects that are identifiable within a particular image. This method was proposed by Shaoqing Ren, Kaiming He, Ross Girshick and Jian Sun in a very popular paper on “Faster R-CNN : Towards Real Time Object Detection with Region Proposal Networks”."
   ]
  },
  {
   "cell_type": "code",
   "execution_count": null,
   "id": "5472e467",
   "metadata": {},
   "outputs": [],
   "source": [
    "Non-max suppression is a way to eliminate points that do not lie in important edges."
   ]
  },
  {
   "cell_type": "code",
   "execution_count": null,
   "id": "2d730b13",
   "metadata": {},
   "outputs": [],
   "source": [
    "This gives basic information about the area that the map represents. Scale: the scale shows the relationship between the real-life distance and the distance represented on the map. For instance, an inch on the map can represent a mile in actual life. Compass rose: a compass rose is used to show the cardinal directions"
   ]
  },
  {
   "cell_type": "code",
   "execution_count": null,
   "id": "e13863b9",
   "metadata": {},
   "outputs": [],
   "source": [
    "Techopedia Explains Frames Per Second (FPS)\n",
    "\n",
    "30p imitates a film camera's frame rate.\n",
    "24p is widely used when transferring a video signal to film.\n",
    "25p is used for direct compatibility with television. ...\n",
    "High-end high definition TV (HDTV) uses 50p and 60p progressive formats.\n",
    "72p is an experimental format."
   ]
  },
  {
   "cell_type": "code",
   "execution_count": null,
   "id": "fb5a4a04",
   "metadata": {},
   "outputs": [],
   "source": [
    "Intersection over Union ($IoU$) is then computed as follows: Where A and B are the prediction and ground truth bounding boxes. $IoU$ has the appealing property of scale invariance. This means that the width, height and location of the two bounding boxes under consideration are taken into account."
   ]
  },
  {
   "cell_type": "code",
   "execution_count": null,
   "id": "0e217b34",
   "metadata": {},
   "outputs": [],
   "source": [
    "Now the curve is constructed by plotting the data pairs for precision and recall. Precision-recall curves are often zigzag curves frequently going up and down. Therefore, precision-recall curves tend to cross each other much more frequently than ROC curves. This can make comparisons between curves challenging"
   ]
  },
  {
   "cell_type": "code",
   "execution_count": null,
   "id": "eabc1729",
   "metadata": {},
   "outputs": [],
   "source": [
    "Selective Search is a region proposal algorithm used in object detection. It is designed to be fast with a very high recall. It is based on computing hierarchical grouping of similar regions based on color, texture, size and shape compatibility."
   ]
  },
  {
   "cell_type": "code",
   "execution_count": null,
   "id": "4f6d525a",
   "metadata": {},
   "outputs": [],
   "source": [
    "The asymmetric 3D-CNN model is evaluated on two of the most challenging action recognition benchmarks, UCF-101 and HMDB-51."
   ]
  },
  {
   "cell_type": "code",
   "execution_count": null,
   "id": "3cee6de7",
   "metadata": {},
   "outputs": [],
   "source": [
    "In commutative algebra and algebraic geometry, localization is a formal way to introduce the \"denominators\" to a given ring or module. That is, it introduces a new ring/module out of an existing ring/module R, so that it consists of fractions such that the denominator s belongs to a given subset S of R."
   ]
  },
  {
   "cell_type": "code",
   "execution_count": null,
   "id": "fcf6b021",
   "metadata": {},
   "outputs": [],
   "source": [
    "Some drawbacks of R-CNN were: Training is multistage pipeline: In R-CNN first a Convnet is fine tuned on object proposals using log loss. Then, it fits SVM to Convnet features by replacing Soft Max. In third stage regressors are trained."
   ]
  },
  {
   "cell_type": "code",
   "execution_count": null,
   "id": "e3d694ba",
   "metadata": {},
   "outputs": [],
   "source": []
  }
 ],
 "metadata": {
  "kernelspec": {
   "display_name": "Python 3",
   "language": "python",
   "name": "python3"
  },
  "language_info": {
   "codemirror_mode": {
    "name": "ipython",
    "version": 3
   },
   "file_extension": ".py",
   "mimetype": "text/x-python",
   "name": "python",
   "nbconvert_exporter": "python",
   "pygments_lexer": "ipython3",
   "version": "3.8.8"
  }
 },
 "nbformat": 4,
 "nbformat_minor": 5
}
