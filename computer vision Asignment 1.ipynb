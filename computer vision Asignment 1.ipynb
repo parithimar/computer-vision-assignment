{
 "cells": [
  {
   "cell_type": "code",
   "execution_count": null,
   "id": "a53db83c",
   "metadata": {},
   "outputs": [],
   "source": [
    "What exactly is a feature?\n",
    "Features of OpenCV Library. Using OpenCV library, you can −. Read and write images. Capture and save videos. Process images (filter, transform) Perform feature detection. Detect specific objects such as faces, eyes, cars, in the videos or images. Analyze the video, i.e., estimate the motion in it, subtract the background, and track objects in it."
   ]
  },
  {
   "cell_type": "code",
   "execution_count": null,
   "id": "fa3711ea",
   "metadata": {},
   "outputs": [],
   "source": [
    "For a top edge detector, write out the convolutional kernel matrix.\n",
    "In order to detect edges or lets say vertical edges in his image, what you can do is construct a 3 by 3 matrix and in the terminology of convolutional neural networks, this is going to be called a filter (sometimes research papers will call this a kernel instead of a filter but I am going to use the filter terminology in this blog post)."
   ]
  },
  {
   "cell_type": "code",
   "execution_count": null,
   "id": "e82a32aa",
   "metadata": {},
   "outputs": [],
   "source": [
    "In image processing a kernel is a small matrix which is used to perform operations like blurring, sharpening, edge-detection etc. on images. The operation is performed by convolution between the image's 2D pixel matrix and the 2D kernel matrix."
   ]
  },
  {
   "cell_type": "code",
   "execution_count": null,
   "id": "d05f9805",
   "metadata": {},
   "outputs": [],
   "source": [
    "Convolutional layers are not better at detecting spatial features than fully connected layers. What this means is that no matter the feature a convolutional layer can learn, a fully connected layer could learn it too. In his article, Irhum Shafkattakes the example of a 4x4 to a 2x2 image with 1 channel by a fully connected laye"
   ]
  },
  {
   "cell_type": "code",
   "execution_count": null,
   "id": "1694ba08",
   "metadata": {},
   "outputs": [],
   "source": [
    "n cryptography, padding is any of a number of distinct practices which all include adding data to the beginning, middle, or end of a message prior to encryption. In classical cryptography, padding may include adding nonsense phrases to a message to obscure the fact that many messages end in predictable ways, e.g. sincerely yours"
   ]
  },
  {
   "cell_type": "code",
   "execution_count": null,
   "id": "f566506e",
   "metadata": {},
   "outputs": [],
   "source": [
    "The STRIDE was initially created as part of the process of threat modeling. STRIDE is a model of threats, used to help reason and find threats to a system. It is used in conjunction with a model of the target system that can be constructed in parallel. This includes a full breakdown of processes, data stores, data flows and trust boundaries."
   ]
  },
  {
   "cell_type": "code",
   "execution_count": null,
   "id": "67baba3a",
   "metadata": {},
   "outputs": [],
   "source": [
    "To perform convolution operation there is a function Conv2D in PyTorch, let us go through the details of it in the below sections. Below are the syntax and parameters of the Conv2D PyTorch function.\n"
   ]
  },
  {
   "cell_type": "code",
   "execution_count": null,
   "id": "4a97658c",
   "metadata": {},
   "outputs": [],
   "source": [
    "A channel is used to convey an information signal, for example a digital bit stream, from one or several senders (or transmitters) to one or several receivers. A channel has a certain capacity for transmitting information, often measured by its bandwidth in Hz or its data rate in bits per second ."
   ]
  },
  {
   "cell_type": "code",
   "execution_count": null,
   "id": "2e2cc10d",
   "metadata": {},
   "outputs": [],
   "source": [
    "Multiplication in your first sentence is term-by-term multiplication: z [ n] = x [ n] y [ n] for all n. Convolution, for discrete-time sequences, is equivalent to polynomial multiplication which is not the same as the term-by-term multiplication."
   ]
  }
 ],
 "metadata": {
  "kernelspec": {
   "display_name": "Python 3",
   "language": "python",
   "name": "python3"
  },
  "language_info": {
   "codemirror_mode": {
    "name": "ipython",
    "version": 3
   },
   "file_extension": ".py",
   "mimetype": "text/x-python",
   "name": "python",
   "nbconvert_exporter": "python",
   "pygments_lexer": "ipython3",
   "version": "3.8.8"
  }
 },
 "nbformat": 4,
 "nbformat_minor": 5
}
