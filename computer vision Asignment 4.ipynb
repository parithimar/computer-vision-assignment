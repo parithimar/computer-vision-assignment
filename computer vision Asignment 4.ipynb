{
 "cells": [
  {
   "cell_type": "code",
   "execution_count": null,
   "id": "d4fa5dd1",
   "metadata": {},
   "outputs": [],
   "source": [
    "Cyclical time, naturally enough, emphasises repetition and is very much influenced by the cycles apparent in the natural world. The day/night cycle regulates our lives, telling us when to sleep and when it is productive (and safe) to go about the business of agriculture or hunting/gathering."
   ]
  },
  {
   "cell_type": "code",
   "execution_count": null,
   "id": "b8615de1",
   "metadata": {},
   "outputs": [],
   "source": [
    "Hyperparameter tuning makes the process of determining the best hyperparameter settings easier and less tedious. Hyperparameter tuning works by running multiple trials in a single training job. Each trial is a complete execution of your training application with values for your chosen hyperparameters, set within limits you specif"
   ]
  },
  {
   "cell_type": "code",
   "execution_count": null,
   "id": "c603a388",
   "metadata": {},
   "outputs": [],
   "source": [
    "Total number of pixels = number of rows ( X ) number of columns Or we can say that the number of (x,y) coordinate pairs make up the total number of pixels. We will look in more detail in the tutorial of image types, that how do we calculate the pixels in a color image."
   ]
  },
  {
   "cell_type": "code",
   "execution_count": null,
   "id": "4052f2e6",
   "metadata": {},
   "outputs": [],
   "source": [
    "For instance batchnormalization layer has 4 parameter which are; [gamma weights, beta weights, moving_mean, moving_variance] The first two of them are trainable but last two are not. So the batch normalization layer is highly probably the reason that your custom network has non-trainable paramteres."
   ]
  },
  {
   "cell_type": "code",
   "execution_count": null,
   "id": "f5e4af4a",
   "metadata": {},
   "outputs": [],
   "source": [
    "Batch normalization, or batchnorm for short, is proposed as a technique to help coordinate the update of multiple layers in the model. Batch normalization provides an elegant way of reparametrizing almost any deep network."
   ]
  },
  {
   "cell_type": "code",
   "execution_count": null,
   "id": "e6ac593b",
   "metadata": {},
   "outputs": [],
   "source": [
    "Batch normalization, or batchnorm for short, is proposed as a technique to help coordinate the update of multiple layers in the model. Batch normalization provides an elegant way of reparametrizing almost any deep network. The reparametrization significantly reduces the problem of coordinating updates across many layers."
   ]
  },
  {
   "cell_type": "code",
   "execution_count": null,
   "id": "81c7a815",
   "metadata": {},
   "outputs": [],
   "source": [
    "Average Pooling: Calculate the average value for each patch on the feature map. Maximum Pooling (or Max Pooling): Calculate the maximum value for each patch of the feature map. The result of using a pooling layer and creating down sampled or pooled feature maps is a summarized version of the features detected in the input."
   ]
  },
  {
   "cell_type": "code",
   "execution_count": null,
   "id": "5f94de60",
   "metadata": {},
   "outputs": [],
   "source": [
    "nput layer - This is the layer that receives data.\n",
    "Normalisation layer - It scales input data to suitable intervals such that bias shall be removed.\n",
    "Convolutional layer - This applies filters to the input such that the features maybe detected along with their locations."
   ]
  },
  {
   "cell_type": "code",
   "execution_count": null,
   "id": "b39b2ca1",
   "metadata": {},
   "outputs": [],
   "source": [
    "Computer vision is evolving rapidly day-by-day. Its one of the reason is deep learning. When we talk about computer vision, a term convolutional neural network( abbreviated as CNN) comes in our mind because CNN is heavily used here. Examples of CNN in computer vision are face recognition, image classification etc. It is similar to the basic neural network. CNN also have learnable parameter like neural network i.e, weights, biases etc"
   ]
  },
  {
   "cell_type": "code",
   "execution_count": null,
   "id": "6f8424cb",
   "metadata": {},
   "outputs": [],
   "source": [
    "cap = cv2.VideoCapture(0)\n",
    "cap.set(3,1280)\n",
    "cap.set(4,1024)\n",
    "time.sleep(2)\n",
    "cap.set(15, -8.0)..."
   ]
  },
  {
   "cell_type": "code",
   "execution_count": null,
   "id": "d3d15461",
   "metadata": {},
   "outputs": [],
   "source": [
    "On one hand, you can use statistical parameters to caracterize the content of an image, its texture. Statistical methods can be further classified into first-order (one pixel), second-order (two pixels) and higher-order (three or more pixels) statistics. The basic difference is that first-order statistics estimate properties"
   ]
  }
 ],
 "metadata": {
  "kernelspec": {
   "display_name": "Python 3",
   "language": "python",
   "name": "python3"
  },
  "language_info": {
   "codemirror_mode": {
    "name": "ipython",
    "version": 3
   },
   "file_extension": ".py",
   "mimetype": "text/x-python",
   "name": "python",
   "nbconvert_exporter": "python",
   "pygments_lexer": "ipython3",
   "version": "3.8.8"
  }
 },
 "nbformat": 4,
 "nbformat_minor": 5
}
